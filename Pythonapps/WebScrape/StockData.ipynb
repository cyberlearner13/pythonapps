{
 "cells": [
  {
   "cell_type": "code",
   "execution_count": 41,
   "metadata": {},
   "outputs": [
    {
     "name": "stderr",
     "output_type": "stream",
     "text": [
      "F:\\Anaconda\\lib\\site-packages\\bokeh\\util\\deprecation.py:34: BokehDeprecationWarning: responsive parameter was deprecated in Bokeh 0.12.10 and will be removed, use sizing_mode='fixed' for responsive=False or sizing_mode='scale_width' for responsive=True instead.\n",
      "  warn(message)\n"
     ]
    }
   ],
   "source": [
    "from pandas_datareader import data\n",
    "import datetime\n",
    "from bokeh.plotting import figure,show,output_file\n",
    "\n",
    "start = datetime.datetime(2018,12,2)\n",
    "end = datetime.datetime(2019,3,11)\n",
    "stock = data.DataReader(name=\"GOOG\",data_source=\"yahoo\",start=start,end=end)\n",
    "\n",
    "def inc_dec(close, open):\n",
    "    if close > open:\n",
    "        value = \"Increase\"\n",
    "    elif close < open:\n",
    "        value = \"Decrease\"\n",
    "    else:\n",
    "        value = \"Equal\"\n",
    "    return value\n",
    "\n",
    "stock[\"Status\"] = [inc_dec(close, open) for close, open in zip(stock.Close, stock.Open)]\n",
    "\n",
    "stock[\"Middle\"] = (stock.Open+stock.Close)/2\n",
    "\n",
    "stock[\"Height\"] = abs(stock.Open-stock.Close)\n",
    "\n",
    "stock\n",
    "\n",
    "p = figure(x_axis_type=\"datetime\", width=1000, height=300, responsive = True)\n",
    "p.title.text = 'Candlestick Chart'\n",
    "p.grid.grid_line_alpha = 0.3\n",
    "\n",
    "hours_12 = 12*60*60*1000\n",
    "\n",
    "p.segment(stock.index, stock.High, stock.index, stock.Low, color=\"black\")\n",
    "\n",
    "p.rect(stock.index[stock.Status == \"Increase\"],stock.Middle[stock.Status == \"Increase\"],\n",
    "       hours_12, stock.Height[stock.Status == \"Increase\"], fill_color=\"#ccffff\", line_color=\"black\")\n",
    "\n",
    "p.rect(stock.index[stock.Status == \"Decrease\"],stock.Middle[stock.Status == \"Decrease\"], \n",
    "       hours_12, stock.Height[stock.Status == \"Decrease\"], fill_color=\"#ff3333\", line_color=\"black\")\n",
    "\n",
    "\n",
    "\n",
    "output_file('BishopsCS.html')\n",
    "show(p)"
   ]
  },
  {
   "cell_type": "code",
   "execution_count": null,
   "metadata": {
    "collapsed": true
   },
   "outputs": [],
   "source": []
  }
 ],
 "metadata": {
  "kernelspec": {
   "display_name": "Python 3",
   "language": "python",
   "name": "python3"
  },
  "language_info": {
   "codemirror_mode": {
    "name": "ipython",
    "version": 3
   },
   "file_extension": ".py",
   "mimetype": "text/x-python",
   "name": "python",
   "nbconvert_exporter": "python",
   "pygments_lexer": "ipython3",
   "version": "3.6.3"
  }
 },
 "nbformat": 4,
 "nbformat_minor": 2
}
